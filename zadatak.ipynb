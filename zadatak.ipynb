{
 "cells": [
  {
   "cell_type": "code",
   "execution_count": 2,
   "id": "04728061",
   "metadata": {},
   "outputs": [
    {
     "name": "stdout",
     "output_type": "stream",
     "text": [
      "Jupyter environment detected. Enabling Open3D WebVisualizer.\n",
      "[Open3D INFO] WebRTC GUI backend enabled.\n",
      "[Open3D INFO] WebRTCWindowSystem: HTTP handshake server disabled.\n"
     ]
    }
   ],
   "source": [
    "import scipy.io\n",
    "import open3d\n",
    "import io\n",
    "import os\n",
    "import numpy as np"
   ]
  },
  {
   "cell_type": "code",
   "execution_count": null,
   "id": "745219fa",
   "metadata": {
    "scrolled": true
   },
   "outputs": [],
   "source": [
    "username= \"MirnaL\"\n",
    "file_path = \"C:/Users/\" + username + \"/Desktop/zadatak/lidar_sample\"\n",
    "file_names = os.listdir(file_path)\n",
    "\n",
    "one_array = np.empty((0, 3))\n",
    "\n",
    "for filename in file_names:\n",
    "    print(filename)\n",
    "    with io.open(file_path + \"/\" + filename, \"rb\") as f:\n",
    "        try:\n",
    "            mat_contents = scipy.io.loadmat(f)\n",
    "        except (ValueError, OSError):\n",
    "            _logger.error(\"Point cloud \" + str(filename) + \" is corrupted.\") \n",
    "        if \"worldCoordinates\" in mat_contents: \n",
    "            point_cloud = mat_contents[\"worldCoordinates\"]\n",
    "        else: \n",
    "            point_cloud = mat_contents[\"lidarPts\"]\n",
    "    \n",
    "    one_array = np.vstack((one_array, point_cloud))\n",
    "\n",
    "            \n",
    "new_pcd = open3d.geometry.PointCloud()\n",
    "new_pcd.points = open3d.utility.Vector3dVector(one_array)\n",
    "open3d.visualization.draw_geometries([new_pcd])\n",
    "\n",
    "#spremanje 3d objekta u .ply datoteku\n",
    "open3d.io.write_point_cloud(\"output.ply\", new_pcd)\n",
    "\n",
    "# pcd = open3d.io.read_point_cloud(\"output.ply\")\n",
    "# open3d.visualization.draw_geometries([pcd])"
   ]
  },
  {
   "cell_type": "code",
   "execution_count": 15,
   "id": "9786c132",
   "metadata": {
    "scrolled": true
   },
   "outputs": [
    {
     "name": "stdout",
     "output_type": "stream",
     "text": [
      "[[-117.14186      3.4665804    1.8165971]\n",
      " [-119.9267       3.565396     3.876401 ]\n",
      " [-120.67767      3.6150217   10.105863 ]\n",
      " ...\n",
      " [  -1.8972076    0.4535299    0.9503895]\n",
      " [-119.80833      3.2849727    1.7947791]\n",
      " [-119.33052      3.3040166    3.85394  ]]\n"
     ]
    }
   ],
   "source": [
    "print(mat_contents[\"lidarPts\"])"
   ]
  },
  {
   "cell_type": "code",
   "execution_count": 21,
   "id": "2e6c47fc",
   "metadata": {},
   "outputs": [
    {
     "name": "stdout",
     "output_type": "stream",
     "text": [
      "std::vector<Eigen::Vector3d> with 218816 elements.\n",
      "Use numpy.asarray() to access data.\n"
     ]
    }
   ],
   "source": [
    "print(new_pcd.points)"
   ]
  },
  {
   "cell_type": "code",
   "execution_count": 19,
   "id": "167157b6",
   "metadata": {},
   "outputs": [
    {
     "name": "stdout",
     "output_type": "stream",
     "text": [
      "[[-117.14186096    3.46658039    1.8165971 ]\n",
      " [-119.92669678    3.56539607    3.87640095]\n",
      " [-120.67767334    3.61502171   10.10586262]\n",
      " ...\n",
      " [  -1.89720762    0.45352989    0.9503895 ]\n",
      " [-119.80832672    3.28497267    1.79477906]\n",
      " [-119.33052063    3.30401659    3.85394001]]\n"
     ]
    }
   ],
   "source": [
    "print(np.asarray(new_pcd.points))"
   ]
  },
  {
   "cell_type": "code",
   "execution_count": null,
   "id": "60a2819c",
   "metadata": {},
   "outputs": [],
   "source": []
  }
 ],
 "metadata": {
  "kernelspec": {
   "display_name": "Python 3 (ipykernel)",
   "language": "python",
   "name": "python3"
  },
  "language_info": {
   "codemirror_mode": {
    "name": "ipython",
    "version": 3
   },
   "file_extension": ".py",
   "mimetype": "text/x-python",
   "name": "python",
   "nbconvert_exporter": "python",
   "pygments_lexer": "ipython3",
   "version": "3.10.9"
  }
 },
 "nbformat": 4,
 "nbformat_minor": 5
}
